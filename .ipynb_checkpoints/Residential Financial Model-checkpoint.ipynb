{
 "cells": [
  {
   "cell_type": "markdown",
   "metadata": {},
   "source": [
    "To Do List:\n",
    "\n",
    "- Additional Principal Payment Calculations\n",
    "- Mortgage Insurance Calculations\n",
    "- Input Fields for App\n",
    "- Rent Growth Calculations\n"
   ]
  },
  {
   "cell_type": "code",
   "execution_count": null,
   "metadata": {},
   "outputs": [],
   "source": [
    "# Dependencies and Setup\n",
    "import json\n",
    "import matplotlib.pyplot as plt\n",
    "import pandas as pd\n",
    "from functools import reduce\n",
    "import numpy as np\n",
    "import requests\n",
    "import datetime as dt\n",
    "from datetime import datetime, date, time, timedelta\n",
    "from dateutil.relativedelta import relativedelta\n",
    "import math\n",
    "import scipy.stats as stats\n",
    "from scipy.stats import linregress\n",
    "from splinter import Browser\n",
    "from bs4 import BeautifulSoup\n",
    "import pymongo\n",
    "from flask import Flask, render_template, redirect\n",
    "from flask import Flask, jsonify, render_template\n",
    "from flask_pymongo import PyMongo"
   ]
  },
  {
   "cell_type": "code",
   "execution_count": null,
   "metadata": {},
   "outputs": [],
   "source": [
    "\n",
    "# street = input(\"Steet: \")\n",
    "# city = input(\"City: \")\n",
    "# state = input(\"State: \")\n",
    "# zip_code = input(\"Zip Code: \")"
   ]
  },
  {
   "cell_type": "code",
   "execution_count": null,
   "metadata": {},
   "outputs": [],
   "source": [
    "# Property Details (Input All)\n",
    "street = \"123 Main St\"\n",
    "city = \"Plainsboro\"\n",
    "state = \"New Jersey\"\n",
    "zip_code = \"08540\""
   ]
  },
  {
   "cell_type": "code",
   "execution_count": null,
   "metadata": {},
   "outputs": [],
   "source": [
    "# Purchase Details (Input:- Purchase Price, HOA Fees, Property Taxes, Homeowner's Insurance, Purchase Date)\n",
    "# Purchase Price:- NJ Average Sales Price (NJ Division of Taxation)\n",
    "purchase_price = 412284\n",
    "hoa_fees = 0\n",
    "# Property Taxes Estimate (2.5% of Home Value)\n",
    "property_taxes = 10307.00\n",
    "property_tax_monthly = round((property_taxes / 12), 2)\n",
    "property_tax_rate = property_taxes / purchase_price\n",
    "homeowners_insurance_annual = 900\n",
    "homeowners_insurance_monthly = homeowners_insurance_annual / 12\n",
    "#today = date.today()\n",
    "#purchase_date = today.strftime(\"%Y-%m-%d\")\n",
    "purchase_date = datetime.strptime(\"2019-03-29\", \"%Y-%m-%d\")\n",
    "month_start = datetime(purchase_date.year, purchase_date.month + 2, 1)\n",
    "property_tax_monthly"
   ]
  },
  {
   "cell_type": "code",
   "execution_count": null,
   "metadata": {},
   "outputs": [],
   "source": [
    "# Borrower Profile (Input All)\n",
    "current_address = \"321 Niam Ave, East Brunswick, NJ 08340\"\n",
    "own_or_rent = \"Rent\"\n",
    "current_housing_payment = 2200\n",
    "credit_score = 720\n"
   ]
  },
  {
   "cell_type": "code",
   "execution_count": null,
   "metadata": {},
   "outputs": [],
   "source": [
    "# Loan Details (Input Loan Type, LTV, Interest Rate, Term, Additional Principal)\n",
    "loan_type = \"Conventional\"\n",
    "ltv = 0.80\n",
    "downpayment = round((purchase_price * (1 - ltv)), 2)\n",
    "loan_amount = round((purchase_price * ltv), 2)\n",
    "interest_rate = 3.75 / 100\n",
    "term_annual = 30\n",
    "no_of_months = term_annual * 12\n",
    "monthly_p_i = round((-1 * np.pmt(interest_rate / 12, no_of_months, loan_amount)), 2)\n",
    "additional_principal = 0\n",
    "\n",
    "pitia = monthly_p_i + property_tax_monthly + homeowners_insurance_monthly + homeowners_insurance_monthly\n",
    "pitia\n"
   ]
  },
  {
   "cell_type": "code",
   "execution_count": null,
   "metadata": {},
   "outputs": [],
   "source": [
    "loan_amount"
   ]
  },
  {
   "cell_type": "code",
   "execution_count": null,
   "metadata": {},
   "outputs": [],
   "source": [
    "# Mortgage Insurance Details\n",
    "\n"
   ]
  },
  {
   "cell_type": "code",
   "execution_count": null,
   "metadata": {},
   "outputs": [],
   "source": [
    "### Closing Costs (Input Total Loan Costs, Other Costs, Lender Credits, Seller Credits)\n",
    "# Total Loan Costs (A + B + C)\n",
    "total_loan_costs = 5000.00\n",
    "# Other Costs (E + F + G + H)\n",
    "other_costs = 6000.00\n",
    "# Prepaids (3 Months)\n",
    "prepaids = round((3 * (property_tax_monthly + homeowners_insurance_monthly)), 2)\n",
    "escrows = round((3 * (property_tax_monthly + homeowners_insurance_monthly)), 2)\n",
    "lender_credits = - 0\n",
    "seller_credits = - 0\n",
    "total_closing_costs = round((total_loan_costs + other_costs + prepaids + escrows + lender_credits), 2)\n",
    "cash_to_close = downpayment + total_closing_costs\n",
    "going_in_costs = total_loan_costs + other_costs + lender_credits + seller_credits\n",
    "\n",
    "going_in_costs\n",
    "\n"
   ]
  },
  {
   "cell_type": "code",
   "execution_count": null,
   "metadata": {},
   "outputs": [],
   "source": [
    "# Appreciation Forecast\n",
    "appreciation_rate = 3.425\n"
   ]
  },
  {
   "cell_type": "code",
   "execution_count": null,
   "metadata": {},
   "outputs": [],
   "source": [
    "# Resale Scenario (Input All)\n",
    "\n",
    "agent_commission = 5 / 100\n",
    "\n",
    "#10-Yr Breakeven Inflation\n",
    "inflation = 1.81 / 100\n"
   ]
  },
  {
   "cell_type": "code",
   "execution_count": null,
   "metadata": {},
   "outputs": [],
   "source": [
    "# Period to calculate\n",
    "per = 1\n",
    "\n",
    "# Calculate the interest payment\n",
    "ipmt = np.ipmt(interest_rate / 12, per, no_of_months, loan_amount)\n",
    "\n",
    "# Calculate the principal payment\n",
    "ppmt = np.ppmt(interest_rate / 12, per, no_of_months, loan_amount)\n",
    "\n",
    "print(ipmt, ppmt)\n"
   ]
  },
  {
   "cell_type": "code",
   "execution_count": null,
   "metadata": {},
   "outputs": [],
   "source": [
    "# build a DateTimeIndex Range for the next 30 years based on MS (Month Start)\n",
    "rng = pd.date_range(month_start, periods=term_annual * 12, freq='MS')\n",
    "rng.name = \"payment_date\"\n",
    "rng"
   ]
  },
  {
   "cell_type": "code",
   "execution_count": null,
   "metadata": {},
   "outputs": [],
   "source": [
    "# Create Amortization Schedule DataFrame\n",
    "amortization_schedule_df = pd.DataFrame()\n",
    "\n",
    "dates = []\n",
    "for d in rng:\n",
    "    date1 = np.datetime64(d)\n",
    "    date2 = np.datetime_as_string(date1, unit='D')\n",
    "    dates.append(date2)    \n",
    "    \n",
    "amortization_schedule_df[\"payment_date\"] = dates\n",
    "amortization_schedule_df[\"month\"] = list(range(1, (len(amortization_schedule_df[\"payment_date\"]) + 1)))\n",
    "\n",
    "#Year\n",
    "periods = list(range(1, (len(amortization_schedule_df[\"payment_date\"]) + 1)))\n",
    "year = []\n",
    "for x in periods: \n",
    "    year.append(math.ceil( x / 12 ))\n",
    "    \n",
    "# Year Column \n",
    "amortization_schedule_df[\"year\"] = year\n",
    "\n",
    "# Payment, Principal, Interest\n",
    "amortization_schedule_df[\"payment\"] = np.pmt(interest_rate/12, term_annual*12, loan_amount)\n",
    "amortization_schedule_df[\"principal\"] = np.ppmt(interest_rate/12, amortization_schedule_df.index, term_annual*12, loan_amount)\n",
    "amortization_schedule_df[\"interest\"] = np.ipmt(interest_rate/12, amortization_schedule_df.index, term_annual*12, loan_amount)\n",
    "\n",
    "# Additional Principal. Convert to a negative value in order to keep the signs the same\n",
    "amortization_schedule_df[\"additional_principal\"] = -additional_principal\n",
    "\n",
    "# Cumulative Principal, Cumulative Interest\n",
    "amortization_schedule_df[\"cumulative_principal\"] = (amortization_schedule_df[\"principal\"] + amortization_schedule_df[\"additional_principal\"]).cumsum()\n",
    "amortization_schedule_df[\"cumulative_interest\"] = (amortization_schedule_df[\"interest\"]).cumsum()\n",
    "\n",
    "# Ending Balance at end of period\n",
    "amortization_schedule_df[\"ending_balance\"] = loan_amount + amortization_schedule_df[\"cumulative_principal\"]\n",
    "\n",
    "# Loan-To-Value\n",
    "amortization_schedule_df[\"loan_to_value_%\"] = (amortization_schedule_df[\"ending_balance\"] / purchase_price) * 100\n",
    "# Round number to 2 decimal points\n",
    "amortization_schedule_df = amortization_schedule_df.round(2)\n",
    "\n",
    "\n",
    "# Preview DataFrame\n",
    "amortization_schedule_df\n"
   ]
  },
  {
   "cell_type": "raw",
   "metadata": {},
   "source": []
  },
  {
   "cell_type": "code",
   "execution_count": null,
   "metadata": {},
   "outputs": [],
   "source": [
    "# Dictionary to create amortization schedule JSON\n",
    "schedule_plotly = amortization_schedule_df.to_dict(orient=\"list\")\n",
    "schedule_d3 = amortization_schedule_df.to_dict(orient=\"records\")"
   ]
  },
  {
   "cell_type": "code",
   "execution_count": null,
   "metadata": {},
   "outputs": [],
   "source": []
  },
  {
   "cell_type": "code",
   "execution_count": null,
   "metadata": {},
   "outputs": [],
   "source": [
    "# Create Equity DataFrame \n",
    "\n",
    "equity_df = pd.DataFrame()\n",
    "equity_df[\"payment_date\"] = amortization_schedule_df[\"payment_date\"]\n",
    "equity_df[\"month\"] = amortization_schedule_df[\"month\"]\n",
    "equity_df[\"year\"] = amortization_schedule_df[\"year\"]\n",
    "equity_df[\"ending_balance\"] = amortization_schedule_df[\"ending_balance\"]\n",
    "equity_df[\"payment\"] = amortization_schedule_df[\"payment\"]\n",
    "\n",
    "house_value = []\n",
    "value = purchase_price\n",
    "for row, index in equity_df.iterrows():    \n",
    "    value = round((value * (1 + ((appreciation_rate/100) / 12))), 2)\n",
    "    house_value.append(value)\n",
    "    value = value\n",
    "    \n",
    "equity_df[\"home_value\"] = house_value\n",
    "equity_df[\"home_equity_without_appreciation\"] = purchase_price - equity_df[\"ending_balance\"]\n",
    "equity_df[\"home_equity_minus_downpayment_closing_costs\"] = equity_df[\"home_equity_without_appreciation\"] - downpayment - going_in_costs\n",
    "equity_df[\"equity_from_appreciation\"] = equity_df[\"home_value\"] - purchase_price\n",
    "\n",
    "    \n",
    "equity_df "
   ]
  },
  {
   "cell_type": "code",
   "execution_count": null,
   "metadata": {},
   "outputs": [],
   "source": [
    "# Dictionary to create equity JSON\n",
    "equity_plotly = equity_df.to_dict(orient=\"list\")\n",
    "equity_d3 = equity_df.to_dict(orient=\"records\")"
   ]
  },
  {
   "cell_type": "code",
   "execution_count": null,
   "metadata": {},
   "outputs": [],
   "source": [
    "# Create Cash Flow DataFrame \n",
    "\n",
    "cashflow_df = pd.DataFrame()\n",
    "\n",
    "cashflow_df[\"payment_date\"] = amortization_schedule_df[\"payment_date\"]\n",
    "cashflow_df[\"month\"] = amortization_schedule_df[\"month\"]\n",
    "cashflow_df[\"year\"] = amortization_schedule_df[\"year\"]\n",
    "cashflow_df[\"payment\"] = amortization_schedule_df[\"payment\"]\n",
    "cashflow_df[\"home_value\"] = equity_df[\"home_value\"]\n",
    "cashflow_df[\"property_taxes\"] = cashflow_df[\"home_value\"] * (property_tax_rate / 12)\n",
    "cashflow_df[\"monthly_housing_expense_owning\"] = -cashflow_df[\"payment\"] + cashflow_df[\"property_taxes\"] + homeowners_insurance_monthly + hoa_fees\n",
    "# ^^^ Need Mortgage Insurance calculation for monthly housing expense calculation\n",
    "\n",
    "# Calculation for Total Owning Costs\n",
    "monthly_cost = 0\n",
    "total_costs = []\n",
    "for cost in cashflow_df[\"monthly_housing_expense_owning\"]:        \n",
    "    monthly_cost += cost\n",
    "    total_costs.append(round((cash_to_close + monthly_cost), 2))\n",
    "cashflow_df[\"total_owning_cost\"] = total_costs   \n",
    "    \n",
    "cashflow_df[\"monthly_rent\"] = current_housing_payment\n",
    "# ^^^  Need Monthly Rent Growth Calculations\n",
    "\n",
    "# Calculation for Total Rent Costs (\"current_housing_payment\")\n",
    "monthly_rent = 0\n",
    "total_rent = []\n",
    "for rent in cashflow_df[\"monthly_rent\"]:\n",
    "    monthly_rent += rent \n",
    "    total_rent.append(round(monthly_rent, 2))\n",
    "\n",
    "cashflow_df[\"total_renting_cost\"] = total_rent\n",
    "cashflow_df[\"monthly_saving_expense\"] = np.around(cashflow_df[\"monthly_rent\"], decimals=2) - np.around(cashflow_df[\"monthly_housing_expense_owning\"], decimals=2)\n",
    "\n",
    "# Calculation for Total Cash Flow\n",
    "saved_spent = 0\n",
    "total_saved_spent = []\n",
    "for cash_flow in cashflow_df[\"monthly_saving_expense\"]:    \n",
    "    saved_spent += cash_flow\n",
    "    total_saved_spent.append(round(saved_spent, 2))\n",
    "\n",
    "cashflow_df[\"total_cash_flow\"] = total_saved_spent\n",
    "\n",
    "cashflow_df"
   ]
  },
  {
   "cell_type": "code",
   "execution_count": null,
   "metadata": {},
   "outputs": [],
   "source": [
    "# Dictionary to create cash flow JSON\n",
    "cashflow_plotly = cashflow_df.to_dict(orient=\"list\")\n",
    "cashflow_d3 = cashflow_df.to_dict(orient=\"records\")"
   ]
  },
  {
   "cell_type": "code",
   "execution_count": null,
   "metadata": {},
   "outputs": [],
   "source": [
    "# Create Wealth Created DataFrame \n",
    "\n",
    "wealth_created_df = pd.DataFrame()\n",
    "wealth_created_df[\"payment_date\"] = amortization_schedule_df[\"payment_date\"]\n",
    "wealth_created_df[\"month\"] = amortization_schedule_df[\"month\"]\n",
    "wealth_created_df[\"year\"] = amortization_schedule_df[\"year\"]\n",
    "wealth_created_df[\"monthly_saving_expense\"] = cashflow_df[\"monthly_saving_expense\"]\n",
    "wealth_created_df[\"total_cash_flow\"] = cashflow_df[\"total_cash_flow\"]\n",
    "wealth_created_df[\"home_equity_minus_downpayment_closing_costs\"] = equity_df[\"home_equity_minus_downpayment_closing_costs\"]\n",
    "wealth_created_df[\"equity_from_appreciation\"] = equity_df[\"equity_from_appreciation\"]\n",
    "wealth_created_df[\"wealth_created\"] = wealth_created_df[\"total_cash_flow\"] + wealth_created_df[\"home_equity_minus_downpayment_closing_costs\"] + wealth_created_df[\"equity_from_appreciation\"]\n",
    "\n",
    "wealth_created_df"
   ]
  },
  {
   "cell_type": "code",
   "execution_count": null,
   "metadata": {},
   "outputs": [],
   "source": [
    "# Dictionary to create wealth created JSON\n",
    "wealth_created_plotly = wealth_created_df.to_dict(orient=\"list\")\n",
    "wealth_created_d3 = wealth_created_df.to_dict(orient=\"records\")"
   ]
  },
  {
   "cell_type": "code",
   "execution_count": null,
   "metadata": {},
   "outputs": [],
   "source": [
    "# Create Rate of Return DataFrame \n",
    "\n",
    "rate_of_return_df = pd.DataFrame()\n",
    "\n",
    "rate_of_return_df[\"payment_date\"] = amortization_schedule_df[\"payment_date\"]\n",
    "rate_of_return_df[\"month\"] = amortization_schedule_df[\"month\"]\n",
    "rate_of_return_df[\"year\"] = amortization_schedule_df[\"year\"]\n",
    "rate_of_return_df[\"home_value\"] = equity_df[\"home_value\"]\n",
    "rate_of_return_df[\"wealth_created\"] = wealth_created_df[\"wealth_created\"]\n",
    "rate_of_return_df[\"money_received_after_selling_property\"] = round((rate_of_return_df[\"wealth_created\"] - (rate_of_return_df[\"home_value\"] * agent_commission)), 2)\n",
    "rate_of_return_df[\"present_value_benefit_of_owning_vs_renting\"] = round((rate_of_return_df[\"money_received_after_selling_property\"] / \\\n",
    "    (np.power((1 + inflation ), (1/12)))), 2)\n",
    "rate_of_return_df[\"percent_return_inflation_adjusted\"] = round(((rate_of_return_df[\"present_value_benefit_of_owning_vs_renting\"] / cash_to_close) * 100), 2)\n",
    "\n",
    "# Calculation for = Annualized Rate of Return \n",
    "periods = list(range(1, (len(rate_of_return_df[\"percent_return_inflation_adjusted\"]) + 1)))\n",
    "rate_of_return_df[\"annualized_rate_of_return_inflation_adjusted\"] = round(((rate_of_return_df[\"percent_return_inflation_adjusted\"] / (periods)) * 12), 2)\n",
    "\n",
    "rate_of_return_df"
   ]
  },
  {
   "cell_type": "code",
   "execution_count": null,
   "metadata": {},
   "outputs": [],
   "source": [
    "# Dictionary to create rate of return JSON\n",
    "rate_of_return_plotly = rate_of_return_df.to_dict(orient=\"list\")\n",
    "rate_of_return_d3 = rate_of_return_df.to_dict(orient=\"records\")"
   ]
  },
  {
   "cell_type": "code",
   "execution_count": null,
   "metadata": {},
   "outputs": [],
   "source": [
    "# Create 10-Yr Forecast \n",
    "\n",
    "ten_years_df = pd.DataFrame()\n",
    "ten_years_df[\"month\"] = amortization_schedule_df[\"month\"].loc[0 : 120 - 1]\n",
    "ten_years_df[\"year\"] = amortization_schedule_df[\"year\"].loc[0 : 120 - 1]\n",
    "ten_years_df[\"home_appreciation\"] = equity_df[\"home_value\"].loc[0 : 120 - 1]\n",
    "ten_years_df[\"equity_from_appreciation\"] = equity_df[\"equity_from_appreciation\"].loc[0 : 120 - 1]\n",
    "ten_years_df[\"wealth_created\"] = wealth_created_df[\"wealth_created\"].loc[0 : 120 - 1]\n",
    "ten_years_df[\"percent_return_inflation_adjusted\"] = rate_of_return_df[\"percent_return_inflation_adjusted\"].loc[0 : 120 - 1]\n",
    "ten_years_df[\"annualized_rate_of_return_inflation_adjusted\"] = rate_of_return_df[\"annualized_rate_of_return_inflation_adjusted\"].loc[0 : 120 - 1]\n",
    "ten_years_df[\"total_owning_cost\"] = cashflow_df[\"total_owning_cost\"].loc[0 : 120 - 1]\n",
    "ten_years_df[\"total_renting_cost\"] = cashflow_df[\"total_renting_cost\"].loc[0 : 120 - 1]\n",
    "\n",
    "\n",
    "ten_years_df"
   ]
  },
  {
   "cell_type": "code",
   "execution_count": null,
   "metadata": {},
   "outputs": [],
   "source": [
    "# Create 10Yr Yearly DateFrame\n",
    "\n",
    "yearly_df = pd.DataFrame()\n",
    "\n",
    "ten = list(range(1, 10 +1))\n",
    "\n",
    "month = []\n",
    "for x in ten:\n",
    "     month.append(x * 12)\n",
    "        \n",
    "year = []\n",
    "home_appreciation = []\n",
    "equity_from_appreciation = []\n",
    "wealth_created = []\n",
    "percent_roi = []\n",
    "annualized_roi = []\n",
    "total_owning_cost = []\n",
    "total_renting_cost = []\n",
    "        \n",
    "for x in month:\n",
    "    year.append(ten_years_df[\"year\"].loc[x - 1])\n",
    "    home_appreciation.append(ten_years_df[\"home_appreciation\"].loc[x - 1])\n",
    "    equity_from_appreciation.append(ten_years_df[\"equity_from_appreciation\"].loc[x - 1])\n",
    "    wealth_created.append(ten_years_df[\"wealth_created\"].loc[x - 1])\n",
    "    percent_roi.append(ten_years_df[\"percent_return_inflation_adjusted\"].loc[x - 1])\n",
    "    annualized_roi.append(ten_years_df[\"annualized_rate_of_return_inflation_adjusted\"].loc[x - 1])\n",
    "    total_owning_cost.append(ten_years_df[\"total_owning_cost\"].loc[x - 1])\n",
    "    total_renting_cost.append(ten_years_df[\"total_renting_cost\"].loc[x - 1])\n",
    "\n",
    "yearly_df[\"month\"] = month\n",
    "yearly_df[\"year\"] = year\n",
    "yearly_df[\"home_appreciation\"] = home_appreciation\n",
    "yearly_df[\"equity_from_appreciation\"] = equity_from_appreciation\n",
    "yearly_df[\"wealth_created\"] = wealth_created\n",
    "yearly_df[\"percent_return_inflation_adjusted\"] = percent_roi\n",
    "yearly_df[\"annualized_rate_of_return_inflation_adjusted\"] = annualized_roi\n",
    "yearly_df[\"total_owning_cost\"] = total_owning_cost       \n",
    "yearly_df[\"total_renting_cost\"] = total_renting_cost\n",
    "\n",
    "\n",
    "yearly_df"
   ]
  },
  {
   "cell_type": "code",
   "execution_count": null,
   "metadata": {},
   "outputs": [],
   "source": [
    "# Dictionary to create ten year JSON\n",
    "ten_years_plotly = ten_years_df.to_dict(orient=\"list\")\n",
    "ten_years_d3 = ten_years_df.to_dict(orient=\"records\")"
   ]
  },
  {
   "cell_type": "code",
   "execution_count": null,
   "metadata": {},
   "outputs": [],
   "source": []
  },
  {
   "cell_type": "code",
   "execution_count": null,
   "metadata": {},
   "outputs": [],
   "source": [
    "# MatPlotLib Chart\n",
    "\n",
    "# create random data\n",
    "x_axis = amortization_schedule_df[\"Payment Date\"]\n",
    "\n",
    "\n",
    "# create some y data points\n",
    "p = -amortization_schedule_df[\"Cumulative Principal\"]\n",
    "i = -amortization_schedule_df[\"Cumulative Interest\"]\n",
    "b = amortization_schedule_df[\"Ending Balance\"]\n",
    "\n",
    "# Create a handle for each plot\n",
    "p, = plt.plot(x_axis, p, marker=\".\",color=\"blue\", label=\"P\")\n",
    "i, = plt.plot(x_axis, i, marker=\".\", color=\"Red\", label=\"I\")\n",
    "b, = plt.plot(x_axis, b, marker=\".\", color=\"Orange\", label=\"B\")\n",
    "\n",
    "\n",
    "# Set our legend to where the chart thinks is best\n",
    "plt.legend(handles=[p, i, b], loc=\"best\")\n",
    "\n",
    "# Create labels for the X and Y axis\n",
    "plt.xlabel(\"Date\")\n",
    "plt.ylabel(\"Amortization ($)\")\n",
    "\n",
    "\n",
    "# display the plot\n",
    "plt.show()"
   ]
  },
  {
   "cell_type": "code",
   "execution_count": null,
   "metadata": {},
   "outputs": [],
   "source": []
  },
  {
   "cell_type": "code",
   "execution_count": null,
   "metadata": {},
   "outputs": [],
   "source": [
    "print(amortization_schedule_df.to_string())"
   ]
  },
  {
   "cell_type": "code",
   "execution_count": null,
   "metadata": {},
   "outputs": [],
   "source": []
  }
 ],
 "metadata": {
  "kernelspec": {
   "display_name": "Python 3",
   "language": "python",
   "name": "python3"
  },
  "language_info": {
   "codemirror_mode": {
    "name": "ipython",
    "version": 3
   },
   "file_extension": ".py",
   "mimetype": "text/x-python",
   "name": "python",
   "nbconvert_exporter": "python",
   "pygments_lexer": "ipython3",
   "version": "3.6.9"
  }
 },
 "nbformat": 4,
 "nbformat_minor": 2
}
